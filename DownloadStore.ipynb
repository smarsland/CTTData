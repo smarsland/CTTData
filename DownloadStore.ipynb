{
 "cells": [
  {
   "cell_type": "code",
   "execution_count": 1,
   "id": "1becbdc3",
   "metadata": {},
   "outputs": [],
   "source": [
    "import numpy as np\n",
    "import pylab as pl\n",
    "import pandas as pd\n",
    "import datetime\n",
    "from os import listdir\n",
    "#from os.path import isfile, join\n",
    "import glob\n",
    "\n",
    "%matplotlib inline"
   ]
  },
  {
   "cell_type": "code",
   "execution_count": 6,
   "id": "2814f31d",
   "metadata": {},
   "outputs": [],
   "source": [
    "import getCTTdata\n",
    "import CTTtoPandas"
   ]
  },
  {
   "cell_type": "code",
   "execution_count": 5,
   "id": "ff3ae4af",
   "metadata": {},
   "outputs": [],
   "source": [
    "getCTTdata.getFiles(getCTTdata.metadata,None)"
   ]
  },
  {
   "cell_type": "code",
   "execution_count": 9,
   "id": "a1c60cb9",
   "metadata": {},
   "outputs": [],
   "source": [
    "startdate = \"2023-05-01\"\n",
    "gpslist,ndlist,dlist=CTTtoPandas.getFileList(getCTTdata.metadata['savepath'],datetime.datetime.strptime(startdate, \"%Y-%m-%d\").date(),None)"
   ]
  },
  {
   "cell_type": "code",
   "execution_count": 11,
   "id": "759306f7",
   "metadata": {},
   "outputs": [],
   "source": [
    "gps,nodedata,data = CTTtoPandas.addData(None,None,None,gpslist,ndlist,dlist)"
   ]
  },
  {
   "cell_type": "code",
   "execution_count": null,
   "id": "77aed6ae",
   "metadata": {},
   "outputs": [],
   "source": []
  }
 ],
 "metadata": {
  "kernelspec": {
   "display_name": "Python 3 (ipykernel)",
   "language": "python",
   "name": "python3"
  },
  "language_info": {
   "codemirror_mode": {
    "name": "ipython",
    "version": 3
   },
   "file_extension": ".py",
   "mimetype": "text/x-python",
   "name": "python",
   "nbconvert_exporter": "python",
   "pygments_lexer": "ipython3",
   "version": "3.9.16"
  }
 },
 "nbformat": 4,
 "nbformat_minor": 5
}
