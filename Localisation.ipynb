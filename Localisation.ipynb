{
 "cells": [
  {
   "cell_type": "code",
   "execution_count": 3,
   "id": "3b40d738",
   "metadata": {},
   "outputs": [],
   "source": [
    "import numpy as np\n",
    "import pylab as pl\n",
    "import pandas as pd\n",
    "import datetime\n",
    "import os\n",
    "#from os.path import isfile, join\n",
    "import glob\n",
    "\n",
    "%matplotlib inline"
   ]
  },
  {
   "cell_type": "code",
   "execution_count": 4,
   "id": "f7a70046",
   "metadata": {},
   "outputs": [],
   "source": [
    "savepath = '/home/marslast/Downloads/CTT/'\n",
    "beeps = pd.read_pickle(os.path.join(savepath,'beeps.pkl'))\n",
    "locs = pd.read_pickle(os.path.join(savepath,'nodeLocations.pkl'))"
   ]
  },
  {
   "cell_type": "code",
   "execution_count": 7,
   "id": "4e6e9c9d",
   "metadata": {},
   "outputs": [
    {
     "data": {
      "text/plain": [
       "array(['37506e', '375fb3', '3765fd', '376e52', '376f0d', '377107',\n",
       "       '37736b', '377502', '3777d2', '377a20', '37852d', '378567',\n",
       "       '37858f', '378932', '378a8a', '378d7b', '378f60', '379c29',\n",
       "       '37a65b', '37a846'], dtype=object)"
      ]
     },
     "execution_count": 7,
     "metadata": {},
     "output_type": "execute_result"
    }
   ],
   "source": [
    "# List of nodes\n",
    "nodes = np.unique(beeps.dropna().NodeId)"
   ]
  },
  {
   "cell_type": "code",
   "execution_count": 11,
   "id": "ff9ce2b4",
   "metadata": {},
   "outputs": [],
   "source": [
    "#beeps['Time'].duplicated()\n",
    "multiples = beeps.pivot_table(index=['Time'], aggfunc='size').reset_index()\n",
    "multiples.rename(columns={0: 'Counts'},inplace=True)\n",
    "times = multiples[multiples.Counts>1].Time"
   ]
  },
  {
   "cell_type": "code",
   "execution_count": 13,
   "id": "837eeebf",
   "metadata": {},
   "outputs": [
    {
     "data": {
      "text/html": [
       "<div>\n",
       "<style scoped>\n",
       "    .dataframe tbody tr th:only-of-type {\n",
       "        vertical-align: middle;\n",
       "    }\n",
       "\n",
       "    .dataframe tbody tr th {\n",
       "        vertical-align: top;\n",
       "    }\n",
       "\n",
       "    .dataframe thead th {\n",
       "        text-align: right;\n",
       "    }\n",
       "</style>\n",
       "<table border=\"1\" class=\"dataframe\">\n",
       "  <thead>\n",
       "    <tr style=\"text-align: right;\">\n",
       "      <th></th>\n",
       "      <th>Time</th>\n",
       "      <th>Counts</th>\n",
       "    </tr>\n",
       "  </thead>\n",
       "  <tbody>\n",
       "    <tr>\n",
       "      <th>0</th>\n",
       "      <td>2023-05-11 23:21:02</td>\n",
       "      <td>1</td>\n",
       "    </tr>\n",
       "    <tr>\n",
       "      <th>1</th>\n",
       "      <td>2023-05-11 23:21:46</td>\n",
       "      <td>1</td>\n",
       "    </tr>\n",
       "    <tr>\n",
       "      <th>2</th>\n",
       "      <td>2023-05-11 23:22:00</td>\n",
       "      <td>1</td>\n",
       "    </tr>\n",
       "    <tr>\n",
       "      <th>3</th>\n",
       "      <td>2023-05-11 23:22:15</td>\n",
       "      <td>1</td>\n",
       "    </tr>\n",
       "    <tr>\n",
       "      <th>4</th>\n",
       "      <td>2023-05-11 23:22:26</td>\n",
       "      <td>1</td>\n",
       "    </tr>\n",
       "  </tbody>\n",
       "</table>\n",
       "</div>"
      ],
      "text/plain": [
       "                  Time  Counts\n",
       "0  2023-05-11 23:21:02       1\n",
       "1  2023-05-11 23:21:46       1\n",
       "2  2023-05-11 23:22:00       1\n",
       "3  2023-05-11 23:22:15       1\n",
       "4  2023-05-11 23:22:26       1"
      ]
     },
     "execution_count": 13,
     "metadata": {},
     "output_type": "execute_result"
    }
   ],
   "source": [
    "multiples.head()"
   ]
  },
  {
   "cell_type": "code",
   "execution_count": 37,
   "id": "357bcb57",
   "metadata": {},
   "outputs": [],
   "source": [
    "t = beeps['Time'].duplicated()\n",
    "inds = np.where(t==True)\n",
    "inds = inds[0][:500]\n",
    "df = beeps.iloc[inds,:]"
   ]
  },
  {
   "cell_type": "code",
   "execution_count": 21,
   "id": "b9a2728a",
   "metadata": {},
   "outputs": [],
   "source": [
    "df = beeps.groupby(beeps['Time'])"
   ]
  },
  {
   "cell_type": "code",
   "execution_count": 38,
   "id": "3d620fe7",
   "metadata": {},
   "outputs": [
    {
     "data": {
      "text/html": [
       "<div>\n",
       "<style scoped>\n",
       "    .dataframe tbody tr th:only-of-type {\n",
       "        vertical-align: middle;\n",
       "    }\n",
       "\n",
       "    .dataframe tbody tr th {\n",
       "        vertical-align: top;\n",
       "    }\n",
       "\n",
       "    .dataframe thead th {\n",
       "        text-align: right;\n",
       "    }\n",
       "</style>\n",
       "<table border=\"1\" class=\"dataframe\">\n",
       "  <thead>\n",
       "    <tr style=\"text-align: right;\">\n",
       "      <th></th>\n",
       "      <th>Time</th>\n",
       "      <th>RadioId</th>\n",
       "      <th>TagId</th>\n",
       "      <th>TagRSSI</th>\n",
       "      <th>NodeId</th>\n",
       "      <th>Validated</th>\n",
       "    </tr>\n",
       "  </thead>\n",
       "  <tbody>\n",
       "    <tr>\n",
       "      <th>114251</th>\n",
       "      <td>2023-05-11 23:22:58</td>\n",
       "      <td>1</td>\n",
       "      <td>3466612D</td>\n",
       "      <td>-109</td>\n",
       "      <td>377107</td>\n",
       "      <td>0</td>\n",
       "    </tr>\n",
       "    <tr>\n",
       "      <th>114188</th>\n",
       "      <td>2023-05-11 23:22:58</td>\n",
       "      <td>1</td>\n",
       "      <td>3466612D</td>\n",
       "      <td>-109</td>\n",
       "      <td>376f0d</td>\n",
       "      <td>0</td>\n",
       "    </tr>\n",
       "    <tr>\n",
       "      <th>114209</th>\n",
       "      <td>2023-05-11 23:23:13</td>\n",
       "      <td>1</td>\n",
       "      <td>3466612D</td>\n",
       "      <td>-69</td>\n",
       "      <td>37858f</td>\n",
       "      <td>0</td>\n",
       "    </tr>\n",
       "    <tr>\n",
       "      <th>114210</th>\n",
       "      <td>2023-05-11 23:23:27</td>\n",
       "      <td>1</td>\n",
       "      <td>3466612D</td>\n",
       "      <td>-69</td>\n",
       "      <td>37858f</td>\n",
       "      <td>0</td>\n",
       "    </tr>\n",
       "    <tr>\n",
       "      <th>114267</th>\n",
       "      <td>2023-05-11 23:23:42</td>\n",
       "      <td>1</td>\n",
       "      <td>3466612D</td>\n",
       "      <td>-107</td>\n",
       "      <td>37736b</td>\n",
       "      <td>0</td>\n",
       "    </tr>\n",
       "  </tbody>\n",
       "</table>\n",
       "</div>"
      ],
      "text/plain": [
       "                       Time  RadioId     TagId  TagRSSI  NodeId  Validated\n",
       "114251  2023-05-11 23:22:58        1  3466612D     -109  377107          0\n",
       "114188  2023-05-11 23:22:58        1  3466612D     -109  376f0d          0\n",
       "114209  2023-05-11 23:23:13        1  3466612D      -69  37858f          0\n",
       "114210  2023-05-11 23:23:27        1  3466612D      -69  37858f          0\n",
       "114267  2023-05-11 23:23:42        1  3466612D     -107  37736b          0"
      ]
     },
     "execution_count": 38,
     "metadata": {},
     "output_type": "execute_result"
    }
   ],
   "source": [
    "df.head()"
   ]
  },
  {
   "cell_type": "code",
   "execution_count": 43,
   "id": "6a85ba7c",
   "metadata": {},
   "outputs": [
    {
     "name": "stdout",
     "output_type": "stream",
     "text": [
      "(array([   10,    23,    56, ..., 12648, 12649, 12650]),)\n"
     ]
    }
   ],
   "source": [
    "a = beeps[beeps.TagId==np.unique(beeps.TagId)[1]]\n",
    "t = a['Time'].duplicated()\n",
    "inds = np.where(t==True)\n",
    "print(inds)"
   ]
  },
  {
   "cell_type": "code",
   "execution_count": 65,
   "id": "069e8b0d",
   "metadata": {},
   "outputs": [
    {
     "name": "stdout",
     "output_type": "stream",
     "text": [
      "6\n"
     ]
    }
   ],
   "source": [
    "maxl = 0\n",
    "time = \"\"\n",
    "count = 0\n",
    "for i in range(100):#len(inds[0])):\n",
    "    if (a.Time.iloc[inds[0][i]] == time):\n",
    "        count+=1\n",
    "    else:\n",
    "        if count>maxl:\n",
    "            maxl = count\n",
    "        count = 0\n",
    "        time = a.Time.iloc[inds[0][i]]\n",
    "        \n",
    "print(maxl)"
   ]
  },
  {
   "cell_type": "code",
   "execution_count": 41,
   "id": "0365d7cc",
   "metadata": {},
   "outputs": [
    {
     "name": "stdout",
     "output_type": "stream",
     "text": [
      "53403\n",
      "12653\n",
      "271949\n",
      "58958\n"
     ]
    }
   ],
   "source": [
    "for t in np.unique(beeps.TagId):\n",
    "    print(np.shape(beeps[beeps.TagId==t])[0])"
   ]
  },
  {
   "cell_type": "code",
   "execution_count": 57,
   "id": "572d9b8a",
   "metadata": {},
   "outputs": [
    {
     "data": {
      "text/plain": [
       "range(0, 8662)"
      ]
     },
     "execution_count": 57,
     "metadata": {},
     "output_type": "execute_result"
    }
   ],
   "source": [
    "range(len(inds[0]))"
   ]
  },
  {
   "cell_type": "code",
   "execution_count": null,
   "id": "8a361a31",
   "metadata": {},
   "outputs": [],
   "source": []
  }
 ],
 "metadata": {
  "kernelspec": {
   "display_name": "Python 3 (ipykernel)",
   "language": "python",
   "name": "python3"
  },
  "language_info": {
   "codemirror_mode": {
    "name": "ipython",
    "version": 3
   },
   "file_extension": ".py",
   "mimetype": "text/x-python",
   "name": "python",
   "nbconvert_exporter": "python",
   "pygments_lexer": "ipython3",
   "version": "3.9.16"
  }
 },
 "nbformat": 4,
 "nbformat_minor": 5
}
