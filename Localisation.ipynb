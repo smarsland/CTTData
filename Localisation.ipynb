{
 "cells": [
  {
   "cell_type": "code",
   "execution_count": 3,
   "id": "441e1ea5",
   "metadata": {},
   "outputs": [],
   "source": [
    "import numpy as np\n",
    "import pylab as pl\n",
    "import pandas as pd\n",
    "import datetime\n",
    "import os\n",
    "#from os.path import isfile, join\n",
    "import glob\n",
    "\n",
    "%matplotlib inline"
   ]
  },
  {
   "cell_type": "code",
   "execution_count": 4,
   "id": "c15ed0a6",
   "metadata": {},
   "outputs": [],
   "source": [
    "savepath = '/home/marslast/Downloads/CTT/'\n",
    "beeps = pd.read_pickle(os.path.join(savepath,'beeps.pkl'))\n",
    "locs = pd.read_pickle(os.path.join(savepath,'nodeLocations.pkl'))"
   ]
  },
  {
   "cell_type": "code",
   "execution_count": 7,
   "id": "2dff7517",
   "metadata": {},
   "outputs": [
    {
     "data": {
      "text/plain": [
       "array(['37506e', '375fb3', '3765fd', '376e52', '376f0d', '377107',\n",
       "       '37736b', '377502', '3777d2', '377a20', '37852d', '378567',\n",
       "       '37858f', '378932', '378a8a', '378d7b', '378f60', '379c29',\n",
       "       '37a65b', '37a846'], dtype=object)"
      ]
     },
     "execution_count": 7,
     "metadata": {},
     "output_type": "execute_result"
    }
   ],
   "source": [
    "# List of nodes\n",
    "nodes = np.unique(beeps.dropna().NodeId)"
   ]
  },
  {
   "cell_type": "code",
   "execution_count": 8,
   "id": "88a39c26",
   "metadata": {},
   "outputs": [],
   "source": [
    "beeps['Time'].duplicated()\n",
    "multiples = beeps.pivot_table(index=['Time'], aggfunc='size').reset_index()\n",
    "multiples.rename(columns={0: 'Counts'},inplace=True)\n",
    "times = multiples[multiples.Counts>1].Time"
   ]
  },
  {
   "cell_type": "code",
   "execution_count": 10,
   "id": "757445d1",
   "metadata": {},
   "outputs": [
    {
     "data": {
      "text/plain": [
       "9         2023-05-11 23:22:58\n",
       "11        2023-05-11 23:23:13\n",
       "13        2023-05-11 23:23:27\n",
       "15        2023-05-11 23:23:42\n",
       "17        2023-05-11 23:23:56\n",
       "                 ...         \n",
       "142668    2023-06-16 04:21:53\n",
       "142670    2023-06-16 04:22:08\n",
       "142671    2023-06-16 04:22:23\n",
       "142672    2023-06-16 04:22:38\n",
       "142673    2023-06-16 04:22:39\n",
       "Name: Time, Length: 85197, dtype: object"
      ]
     },
     "execution_count": 10,
     "metadata": {},
     "output_type": "execute_result"
    }
   ],
   "source": [
    "times"
   ]
  },
  {
   "cell_type": "code",
   "execution_count": null,
   "id": "f8a0ed72",
   "metadata": {},
   "outputs": [],
   "source": []
  }
 ],
 "metadata": {
  "kernelspec": {
   "display_name": "Python 3 (ipykernel)",
   "language": "python",
   "name": "python3"
  },
  "language_info": {
   "codemirror_mode": {
    "name": "ipython",
    "version": 3
   },
   "file_extension": ".py",
   "mimetype": "text/x-python",
   "name": "python",
   "nbconvert_exporter": "python",
   "pygments_lexer": "ipython3",
   "version": "3.9.16"
  }
 },
 "nbformat": 4,
 "nbformat_minor": 5
}
