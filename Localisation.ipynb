{
 "cells": [
  {
   "cell_type": "code",
   "execution_count": 1,
   "id": "b9c252b0",
   "metadata": {},
   "outputs": [],
   "source": [
    "import numpy as np\n",
    "import pylab as pl\n",
    "import pandas as pd\n",
    "import datetime\n",
    "import os\n",
    "#from os.path import isfile, join\n",
    "import glob\n",
    "\n",
    "%matplotlib inline\n",
    "\n",
    "import warnings\n",
    "warnings.filterwarnings('ignore')\n"
   ]
  },
  {
   "cell_type": "code",
   "execution_count": 2,
   "id": "c87b04ea",
   "metadata": {},
   "outputs": [],
   "source": [
    "savepath = '/home/marslast/Downloads/CTT/Wairio'\n",
    "beeps = pd.read_pickle(os.path.join(savepath,'beeps.pkl'))\n",
    "locs = pd.read_pickle(os.path.join(savepath,'nodeLocations.pkl'))"
   ]
  },
  {
   "cell_type": "code",
   "execution_count": 3,
   "id": "d376dac8",
   "metadata": {},
   "outputs": [
    {
     "name": "stdout",
     "output_type": "stream",
     "text": [
      "['37506e' '375fb3' '3765fd' '376e52' '376f0d' '377107' '37736b' '377502'\n",
      " '3777d2' '377a20' '37852d' '378567' '37858f' '378932' '378a8a' '378d7b'\n",
      " '378f60' '379c29' '37a65b' '37a846' 'Station']\n"
     ]
    }
   ],
   "source": [
    "# List of nodes\n",
    "nodes = np.unique(beeps.dropna().NodeId)\n",
    "print(nodes)"
   ]
  },
  {
   "cell_type": "markdown",
   "id": "a5379e7c",
   "metadata": {},
   "source": [
    "Tags Ellen put out (24/4/23 -- 19/05/23)\n",
    "19523434\n",
    "3466612D\n",
    "66556134\n",
    "\n",
    "Rat tags:\n",
    "2A194B78 19/5/23 1530\n",
    "332D7855 24/5/23 1500\n",
    "19523434 21/6/23 1530\n",
    "\n",
    "Stephen H\n",
    "2D2D6166 1/6/23"
   ]
  },
  {
   "cell_type": "code",
   "execution_count": 4,
   "id": "6fb98ee8",
   "metadata": {},
   "outputs": [
    {
     "data": {
      "text/html": [
       "<div>\n",
       "<style scoped>\n",
       "    .dataframe tbody tr th:only-of-type {\n",
       "        vertical-align: middle;\n",
       "    }\n",
       "\n",
       "    .dataframe tbody tr th {\n",
       "        vertical-align: top;\n",
       "    }\n",
       "\n",
       "    .dataframe thead th {\n",
       "        text-align: right;\n",
       "    }\n",
       "</style>\n",
       "<table border=\"1\" class=\"dataframe\">\n",
       "  <thead>\n",
       "    <tr style=\"text-align: right;\">\n",
       "      <th></th>\n",
       "      <th>Time</th>\n",
       "      <th>RadioId</th>\n",
       "      <th>TagId</th>\n",
       "      <th>TagRSSI</th>\n",
       "      <th>NodeId</th>\n",
       "      <th>Validated</th>\n",
       "    </tr>\n",
       "  </thead>\n",
       "  <tbody>\n",
       "    <tr>\n",
       "      <th>114186</th>\n",
       "      <td>2023-05-11 23:21:02</td>\n",
       "      <td>1</td>\n",
       "      <td>3466612D</td>\n",
       "      <td>-109</td>\n",
       "      <td>376f0d</td>\n",
       "      <td>0</td>\n",
       "    </tr>\n",
       "    <tr>\n",
       "      <th>114203</th>\n",
       "      <td>2023-05-11 23:21:46</td>\n",
       "      <td>1</td>\n",
       "      <td>3466612D</td>\n",
       "      <td>-69</td>\n",
       "      <td>37858f</td>\n",
       "      <td>0</td>\n",
       "    </tr>\n",
       "    <tr>\n",
       "      <th>114204</th>\n",
       "      <td>2023-05-11 23:22:00</td>\n",
       "      <td>1</td>\n",
       "      <td>3466612D</td>\n",
       "      <td>-69</td>\n",
       "      <td>37858f</td>\n",
       "      <td>0</td>\n",
       "    </tr>\n",
       "    <tr>\n",
       "      <th>114205</th>\n",
       "      <td>2023-05-11 23:22:15</td>\n",
       "      <td>1</td>\n",
       "      <td>3466612D</td>\n",
       "      <td>-69</td>\n",
       "      <td>37858f</td>\n",
       "      <td>0</td>\n",
       "    </tr>\n",
       "    <tr>\n",
       "      <th>114227</th>\n",
       "      <td>2023-05-11 23:22:26</td>\n",
       "      <td>1</td>\n",
       "      <td>3466612D</td>\n",
       "      <td>-106</td>\n",
       "      <td>377502</td>\n",
       "      <td>0</td>\n",
       "    </tr>\n",
       "  </tbody>\n",
       "</table>\n",
       "</div>"
      ],
      "text/plain": [
       "                       Time  RadioId     TagId  TagRSSI  NodeId  Validated\n",
       "114186  2023-05-11 23:21:02        1  3466612D     -109  376f0d          0\n",
       "114203  2023-05-11 23:21:46        1  3466612D      -69  37858f          0\n",
       "114204  2023-05-11 23:22:00        1  3466612D      -69  37858f          0\n",
       "114205  2023-05-11 23:22:15        1  3466612D      -69  37858f          0\n",
       "114227  2023-05-11 23:22:26        1  3466612D     -106  377502          0"
      ]
     },
     "execution_count": 4,
     "metadata": {},
     "output_type": "execute_result"
    }
   ],
   "source": [
    "ourtags = ['19523434','3466612D','66556134','2A194B78','332D7855','19523434','2D2D6166']\n",
    "beeps = beeps[beeps.TagId.isin(ourtags)]\n",
    "beeps.head()"
   ]
  },
  {
   "cell_type": "code",
   "execution_count": 5,
   "id": "d82c9ec6",
   "metadata": {},
   "outputs": [],
   "source": [
    "#beeps['Time'].duplicated()\n",
    "multiples = beeps.pivot_table(index=['Time'], aggfunc='size').reset_index()\n",
    "multiples.rename(columns={0: 'Counts'},inplace=True)\n",
    "times = multiples[multiples.Counts>1].Time"
   ]
  },
  {
   "cell_type": "code",
   "execution_count": 6,
   "id": "91245e3b",
   "metadata": {},
   "outputs": [
    {
     "data": {
      "text/plain": [
       "<Axes: ylabel='Frequency'>"
      ]
     },
     "execution_count": 6,
     "metadata": {},
     "output_type": "execute_result"
    },
    {
     "data": {
      "image/png": "[encoded data removed]",
      "text/plain": [
       "<Figure size 640x480 with 1 Axes>"
      ]
     },
     "metadata": {},
     "output_type": "display_data"
    }
   ],
   "source": [
    "multiples.plot.hist(column='Counts',bins=20)"
   ]
  },
  {
   "cell_type": "code",
   "execution_count": 7,
   "id": "93575c8e",
   "metadata": {},
   "outputs": [],
   "source": [
    "t = beeps['Time'].duplicated()\n",
    "inds = np.where(t==True)\n",
    "inds = inds[0][:500]\n",
    "df = beeps.iloc[inds,:]"
   ]
  },
  {
   "cell_type": "code",
   "execution_count": 8,
   "id": "d6903a4c",
   "metadata": {},
   "outputs": [],
   "source": [
    "df = beeps.groupby(beeps['Time'])"
   ]
  },
  {
   "cell_type": "code",
   "execution_count": 9,
   "id": "4cd8d1b1",
   "metadata": {},
   "outputs": [
    {
     "data": {
      "text/html": [
       "<div>\n",
       "<style scoped>\n",
       "    .dataframe tbody tr th:only-of-type {\n",
       "        vertical-align: middle;\n",
       "    }\n",
       "\n",
       "    .dataframe tbody tr th {\n",
       "        vertical-align: top;\n",
       "    }\n",
       "\n",
       "    .dataframe thead th {\n",
       "        text-align: right;\n",
       "    }\n",
       "</style>\n",
       "<table border=\"1\" class=\"dataframe\">\n",
       "  <thead>\n",
       "    <tr style=\"text-align: right;\">\n",
       "      <th></th>\n",
       "      <th>Time</th>\n",
       "      <th>RadioId</th>\n",
       "      <th>TagId</th>\n",
       "      <th>TagRSSI</th>\n",
       "      <th>NodeId</th>\n",
       "      <th>Validated</th>\n",
       "    </tr>\n",
       "  </thead>\n",
       "  <tbody>\n",
       "    <tr>\n",
       "      <th>114186</th>\n",
       "      <td>2023-05-11 23:21:02</td>\n",
       "      <td>1</td>\n",
       "      <td>3466612D</td>\n",
       "      <td>-109</td>\n",
       "      <td>376f0d</td>\n",
       "      <td>0</td>\n",
       "    </tr>\n",
       "    <tr>\n",
       "      <th>114203</th>\n",
       "      <td>2023-05-11 23:21:46</td>\n",
       "      <td>1</td>\n",
       "      <td>3466612D</td>\n",
       "      <td>-69</td>\n",
       "      <td>37858f</td>\n",
       "      <td>0</td>\n",
       "    </tr>\n",
       "    <tr>\n",
       "      <th>114204</th>\n",
       "      <td>2023-05-11 23:22:00</td>\n",
       "      <td>1</td>\n",
       "      <td>3466612D</td>\n",
       "      <td>-69</td>\n",
       "      <td>37858f</td>\n",
       "      <td>0</td>\n",
       "    </tr>\n",
       "    <tr>\n",
       "      <th>114205</th>\n",
       "      <td>2023-05-11 23:22:15</td>\n",
       "      <td>1</td>\n",
       "      <td>3466612D</td>\n",
       "      <td>-69</td>\n",
       "      <td>37858f</td>\n",
       "      <td>0</td>\n",
       "    </tr>\n",
       "    <tr>\n",
       "      <th>114227</th>\n",
       "      <td>2023-05-11 23:22:26</td>\n",
       "      <td>1</td>\n",
       "      <td>3466612D</td>\n",
       "      <td>-106</td>\n",
       "      <td>377502</td>\n",
       "      <td>0</td>\n",
       "    </tr>\n",
       "    <tr>\n",
       "      <th>...</th>\n",
       "      <td>...</td>\n",
       "      <td>...</td>\n",
       "      <td>...</td>\n",
       "      <td>...</td>\n",
       "      <td>...</td>\n",
       "      <td>...</td>\n",
       "    </tr>\n",
       "    <tr>\n",
       "      <th>205643</th>\n",
       "      <td>2023-06-16 04:22:39</td>\n",
       "      <td>1</td>\n",
       "      <td>2D2D6166</td>\n",
       "      <td>-103</td>\n",
       "      <td>377a20</td>\n",
       "      <td>0</td>\n",
       "    </tr>\n",
       "    <tr>\n",
       "      <th>205824</th>\n",
       "      <td>2023-06-16 04:22:39</td>\n",
       "      <td>1</td>\n",
       "      <td>2D2D6166</td>\n",
       "      <td>-106</td>\n",
       "      <td>37858f</td>\n",
       "      <td>0</td>\n",
       "    </tr>\n",
       "    <tr>\n",
       "      <th>205685</th>\n",
       "      <td>2023-06-16 04:22:39</td>\n",
       "      <td>1</td>\n",
       "      <td>2D2D6166</td>\n",
       "      <td>-108</td>\n",
       "      <td>376e52</td>\n",
       "      <td>0</td>\n",
       "    </tr>\n",
       "    <tr>\n",
       "      <th>205709</th>\n",
       "      <td>2023-06-16 04:22:54</td>\n",
       "      <td>1</td>\n",
       "      <td>2D2D6166</td>\n",
       "      <td>-108</td>\n",
       "      <td>378d7b</td>\n",
       "      <td>0</td>\n",
       "    </tr>\n",
       "    <tr>\n",
       "      <th>205710</th>\n",
       "      <td>2023-06-16 04:23:09</td>\n",
       "      <td>1</td>\n",
       "      <td>2D2D6166</td>\n",
       "      <td>-110</td>\n",
       "      <td>378d7b</td>\n",
       "      <td>0</td>\n",
       "    </tr>\n",
       "  </tbody>\n",
       "</table>\n",
       "<p>349195 rows × 6 columns</p>\n",
       "</div>"
      ],
      "text/plain": [
       "                       Time  RadioId     TagId  TagRSSI  NodeId  Validated\n",
       "114186  2023-05-11 23:21:02        1  3466612D     -109  376f0d          0\n",
       "114203  2023-05-11 23:21:46        1  3466612D      -69  37858f          0\n",
       "114204  2023-05-11 23:22:00        1  3466612D      -69  37858f          0\n",
       "114205  2023-05-11 23:22:15        1  3466612D      -69  37858f          0\n",
       "114227  2023-05-11 23:22:26        1  3466612D     -106  377502          0\n",
       "...                     ...      ...       ...      ...     ...        ...\n",
       "205643  2023-06-16 04:22:39        1  2D2D6166     -103  377a20          0\n",
       "205824  2023-06-16 04:22:39        1  2D2D6166     -106  37858f          0\n",
       "205685  2023-06-16 04:22:39        1  2D2D6166     -108  376e52          0\n",
       "205709  2023-06-16 04:22:54        1  2D2D6166     -108  378d7b          0\n",
       "205710  2023-06-16 04:23:09        1  2D2D6166     -110  378d7b          0\n",
       "\n",
       "[349195 rows x 6 columns]"
      ]
     },
     "execution_count": 9,
     "metadata": {},
     "output_type": "execute_result"
    }
   ],
   "source": [
    "df.head()"
   ]
  },
  {
   "cell_type": "code",
   "execution_count": 10,
   "id": "76ca7d84",
   "metadata": {},
   "outputs": [
    {
     "name": "stdout",
     "output_type": "stream",
     "text": [
      "(array([    1,     5,     6, ..., 12667, 12668, 12669]),)\n"
     ]
    }
   ],
   "source": [
    "a = beeps[beeps.TagId==np.unique(beeps.TagId)[1]]\n",
    "t = a['Time'].duplicated()\n",
    "inds = np.where(t==True)\n",
    "print(inds)"
   ]
  },
  {
   "cell_type": "code",
   "execution_count": 11,
   "id": "73528748",
   "metadata": {},
   "outputs": [
    {
     "name": "stdout",
     "output_type": "stream",
     "text": [
      "6\n"
     ]
    }
   ],
   "source": [
    "maxl = 0\n",
    "time = \"\"\n",
    "count = 0\n",
    "for i in range(100):#len(inds[0])):\n",
    "    if (a.Time.iloc[inds[0][i]] == time):\n",
    "        count+=1\n",
    "    else:\n",
    "        if count>maxl:\n",
    "            maxl = count\n",
    "        count = 0\n",
    "        time = a.Time.iloc[inds[0][i]]\n",
    "        \n",
    "print(maxl)"
   ]
  },
  {
   "cell_type": "code",
   "execution_count": 12,
   "id": "ce8e744f",
   "metadata": {},
   "outputs": [
    {
     "name": "stdout",
     "output_type": "stream",
     "text": [
      "2A194B78 53681\n",
      "2D2D6166 12672\n",
      "332D7855 271492\n",
      "3466612D 58745\n"
     ]
    }
   ],
   "source": [
    "for t in np.unique(beeps.TagId):\n",
    "    print(t, np.shape(beeps[beeps.TagId==t])[0])"
   ]
  },
  {
   "cell_type": "code",
   "execution_count": 24,
   "id": "26432bee",
   "metadata": {},
   "outputs": [
    {
     "data": {
      "text/html": [
       "<div>\n",
       "<style scoped>\n",
       "    .dataframe tbody tr th:only-of-type {\n",
       "        vertical-align: middle;\n",
       "    }\n",
       "\n",
       "    .dataframe tbody tr th {\n",
       "        vertical-align: top;\n",
       "    }\n",
       "\n",
       "    .dataframe thead th {\n",
       "        text-align: right;\n",
       "    }\n",
       "</style>\n",
       "<table border=\"1\" class=\"dataframe\">\n",
       "  <thead>\n",
       "    <tr style=\"text-align: right;\">\n",
       "      <th></th>\n",
       "      <th>Time</th>\n",
       "      <th>Counts</th>\n",
       "    </tr>\n",
       "  </thead>\n",
       "  <tbody>\n",
       "    <tr>\n",
       "      <th>9</th>\n",
       "      <td>2023-05-11 23:22:58</td>\n",
       "      <td>3</td>\n",
       "    </tr>\n",
       "    <tr>\n",
       "      <th>11</th>\n",
       "      <td>2023-05-11 23:23:13</td>\n",
       "      <td>2</td>\n",
       "    </tr>\n",
       "    <tr>\n",
       "      <th>13</th>\n",
       "      <td>2023-05-11 23:23:27</td>\n",
       "      <td>2</td>\n",
       "    </tr>\n",
       "    <tr>\n",
       "      <th>15</th>\n",
       "      <td>2023-05-11 23:23:42</td>\n",
       "      <td>2</td>\n",
       "    </tr>\n",
       "    <tr>\n",
       "      <th>17</th>\n",
       "      <td>2023-05-11 23:23:56</td>\n",
       "      <td>3</td>\n",
       "    </tr>\n",
       "    <tr>\n",
       "      <th>...</th>\n",
       "      <td>...</td>\n",
       "      <td>...</td>\n",
       "    </tr>\n",
       "    <tr>\n",
       "      <th>142424</th>\n",
       "      <td>2023-06-16 04:21:53</td>\n",
       "      <td>7</td>\n",
       "    </tr>\n",
       "    <tr>\n",
       "      <th>142426</th>\n",
       "      <td>2023-06-16 04:22:08</td>\n",
       "      <td>9</td>\n",
       "    </tr>\n",
       "    <tr>\n",
       "      <th>142427</th>\n",
       "      <td>2023-06-16 04:22:23</td>\n",
       "      <td>8</td>\n",
       "    </tr>\n",
       "    <tr>\n",
       "      <th>142428</th>\n",
       "      <td>2023-06-16 04:22:38</td>\n",
       "      <td>3</td>\n",
       "    </tr>\n",
       "    <tr>\n",
       "      <th>142429</th>\n",
       "      <td>2023-06-16 04:22:39</td>\n",
       "      <td>4</td>\n",
       "    </tr>\n",
       "  </tbody>\n",
       "</table>\n",
       "<p>85172 rows × 2 columns</p>\n",
       "</div>"
      ],
      "text/plain": [
       "                       Time  Counts\n",
       "9       2023-05-11 23:22:58       3\n",
       "11      2023-05-11 23:23:13       2\n",
       "13      2023-05-11 23:23:27       2\n",
       "15      2023-05-11 23:23:42       2\n",
       "17      2023-05-11 23:23:56       3\n",
       "...                     ...     ...\n",
       "142424  2023-06-16 04:21:53       7\n",
       "142426  2023-06-16 04:22:08       9\n",
       "142427  2023-06-16 04:22:23       8\n",
       "142428  2023-06-16 04:22:38       3\n",
       "142429  2023-06-16 04:22:39       4\n",
       "\n",
       "[85172 rows x 2 columns]"
      ]
     },
     "execution_count": 24,
     "metadata": {},
     "output_type": "execute_result"
    }
   ],
   "source": [
    "multiples[multiples.Counts>1]"
   ]
  },
  {
   "cell_type": "code",
   "execution_count": 18,
   "id": "1381bdfc",
   "metadata": {},
   "outputs": [
    {
     "data": {
      "text/html": [
       "<div>\n",
       "<style scoped>\n",
       "    .dataframe tbody tr th:only-of-type {\n",
       "        vertical-align: middle;\n",
       "    }\n",
       "\n",
       "    .dataframe tbody tr th {\n",
       "        vertical-align: top;\n",
       "    }\n",
       "\n",
       "    .dataframe thead th {\n",
       "        text-align: right;\n",
       "    }\n",
       "</style>\n",
       "<table border=\"1\" class=\"dataframe\">\n",
       "  <thead>\n",
       "    <tr style=\"text-align: right;\">\n",
       "      <th></th>\n",
       "      <th>Time</th>\n",
       "      <th>Counts</th>\n",
       "    </tr>\n",
       "  </thead>\n",
       "  <tbody>\n",
       "    <tr>\n",
       "      <th>32658</th>\n",
       "      <td>2023-05-19 09:51:35</td>\n",
       "      <td>17</td>\n",
       "    </tr>\n",
       "    <tr>\n",
       "      <th>28128</th>\n",
       "      <td>2023-05-19 04:23:56</td>\n",
       "      <td>16</td>\n",
       "    </tr>\n",
       "    <tr>\n",
       "      <th>29082</th>\n",
       "      <td>2023-05-19 05:23:11</td>\n",
       "      <td>16</td>\n",
       "    </tr>\n",
       "    <tr>\n",
       "      <th>29074</th>\n",
       "      <td>2023-05-19 05:22:32</td>\n",
       "      <td>16</td>\n",
       "    </tr>\n",
       "    <tr>\n",
       "      <th>29062</th>\n",
       "      <td>2023-05-19 05:21:40</td>\n",
       "      <td>16</td>\n",
       "    </tr>\n",
       "  </tbody>\n",
       "</table>\n",
       "</div>"
      ],
      "text/plain": [
       "                      Time  Counts\n",
       "32658  2023-05-19 09:51:35      17\n",
       "28128  2023-05-19 04:23:56      16\n",
       "29082  2023-05-19 05:23:11      16\n",
       "29074  2023-05-19 05:22:32      16\n",
       "29062  2023-05-19 05:21:40      16"
      ]
     },
     "execution_count": 18,
     "metadata": {},
     "output_type": "execute_result"
    }
   ],
   "source": [
    "m = multiples.sort_values(by=['Counts'],ascending=False)\n",
    "m.head()"
   ]
  },
  {
   "cell_type": "code",
   "execution_count": 19,
   "id": "2f73b930",
   "metadata": {},
   "outputs": [],
   "source": [
    "t=multiples.iloc[32712,0]"
   ]
  },
  {
   "cell_type": "code",
   "execution_count": 20,
   "id": "6cef1121",
   "metadata": {},
   "outputs": [],
   "source": [
    "d = beeps[beeps.Time==t]"
   ]
  },
  {
   "cell_type": "markdown",
   "id": "dd9e4e56",
   "metadata": {},
   "source": [
    "Based on something like this, I want to (a) plot a circle around each location, (b) find the intersection, (c) guess the location"
   ]
  },
  {
   "cell_type": "code",
   "execution_count": 21,
   "id": "57ff169c",
   "metadata": {},
   "outputs": [
    {
     "data": {
      "image/png": "[encoded data removed]",
      "text/plain": [
       "<Figure size 640x480 with 1 Axes>"
      ]
     },
     "metadata": {},
     "output_type": "display_data"
    }
   ],
   "source": [
    "# These are the node (and station) locations\n",
    "pl.plot(locs.Latitude,locs.Longitude,'b.');\n",
    "# TODO -- think about which yagis"
   ]
  },
  {
   "cell_type": "code",
   "execution_count": 22,
   "id": "27f2aaac",
   "metadata": {},
   "outputs": [
    {
     "data": {
      "image/png": "[encoded data removed]",
      "text/plain": [
       "<Figure size 640x480 with 1 Axes>"
      ]
     },
     "metadata": {},
     "output_type": "display_data"
    }
   ],
   "source": [
    "fig, ax = pl.subplots() \n",
    "# These are the node locations that were involved\n",
    "dd = locs[locs.NodeId.isin(d.NodeId)]\n",
    "ax.plot(dd.Latitude,dd.Longitude,'r.') \n",
    "\n",
    "for i in range(len(dd)):\n",
    "    # Put a circle around each -- how to calibrate?! It's obviously not linear.\n",
    "    rssi = d.TagRSSI[d.NodeId==dd.iloc[i,0]]\n",
    "    #dist = (-rssi-40)/1.2\n",
    "    dist = 10**((-20-rssi)/(10*4))\n",
    "    circle = pl.Circle((dd.iloc[i,1],dd.iloc[i,2]), 0.00002*dist, color='g',fill=False)\n",
    "    ax.add_patch(circle)\n",
    "\n",
    "pl.axis('equal');"
   ]
  },
  {
   "cell_type": "code",
   "execution_count": 23,
   "id": "5e1313aa",
   "metadata": {},
   "outputs": [
    {
     "data": {
      "text/html": [
       "<div>\n",
       "<style scoped>\n",
       "    .dataframe tbody tr th:only-of-type {\n",
       "        vertical-align: middle;\n",
       "    }\n",
       "\n",
       "    .dataframe tbody tr th {\n",
       "        vertical-align: top;\n",
       "    }\n",
       "\n",
       "    .dataframe thead th {\n",
       "        text-align: right;\n",
       "    }\n",
       "</style>\n",
       "<table border=\"1\" class=\"dataframe\">\n",
       "  <thead>\n",
       "    <tr style=\"text-align: right;\">\n",
       "      <th></th>\n",
       "      <th>Time</th>\n",
       "      <th>RadioId</th>\n",
       "      <th>TagId</th>\n",
       "      <th>TagRSSI</th>\n",
       "      <th>NodeId</th>\n",
       "      <th>Validated</th>\n",
       "    </tr>\n",
       "  </thead>\n",
       "  <tbody>\n",
       "    <tr>\n",
       "      <th>311495</th>\n",
       "      <td>2023-05-19 09:54:58</td>\n",
       "      <td>1</td>\n",
       "      <td>2A194B78</td>\n",
       "      <td>-96</td>\n",
       "      <td>377a20</td>\n",
       "      <td>0</td>\n",
       "    </tr>\n",
       "    <tr>\n",
       "      <th>311432</th>\n",
       "      <td>2023-05-19 09:54:58</td>\n",
       "      <td>1</td>\n",
       "      <td>2A194B78</td>\n",
       "      <td>-95</td>\n",
       "      <td>37736b</td>\n",
       "      <td>0</td>\n",
       "    </tr>\n",
       "    <tr>\n",
       "      <th>311523</th>\n",
       "      <td>2023-05-19 09:54:58</td>\n",
       "      <td>1</td>\n",
       "      <td>2A194B78</td>\n",
       "      <td>-78</td>\n",
       "      <td>376f0d</td>\n",
       "      <td>0</td>\n",
       "    </tr>\n",
       "    <tr>\n",
       "      <th>311381</th>\n",
       "      <td>2023-05-19 09:54:58</td>\n",
       "      <td>1</td>\n",
       "      <td>2A194B78</td>\n",
       "      <td>-90</td>\n",
       "      <td>377107</td>\n",
       "      <td>0</td>\n",
       "    </tr>\n",
       "    <tr>\n",
       "      <th>311602</th>\n",
       "      <td>2023-05-19 09:54:58</td>\n",
       "      <td>1</td>\n",
       "      <td>2A194B78</td>\n",
       "      <td>-86</td>\n",
       "      <td>378f60</td>\n",
       "      <td>0</td>\n",
       "    </tr>\n",
       "    <tr>\n",
       "      <th>311664</th>\n",
       "      <td>2023-05-19 09:54:58</td>\n",
       "      <td>1</td>\n",
       "      <td>2A194B78</td>\n",
       "      <td>-105</td>\n",
       "      <td>37858f</td>\n",
       "      <td>0</td>\n",
       "    </tr>\n",
       "    <tr>\n",
       "      <th>311618</th>\n",
       "      <td>2023-05-19 09:54:58</td>\n",
       "      <td>1</td>\n",
       "      <td>2A194B78</td>\n",
       "      <td>-109</td>\n",
       "      <td>378d7b</td>\n",
       "      <td>0</td>\n",
       "    </tr>\n",
       "    <tr>\n",
       "      <th>311574</th>\n",
       "      <td>2023-05-19 09:54:58</td>\n",
       "      <td>1</td>\n",
       "      <td>2A194B78</td>\n",
       "      <td>-65</td>\n",
       "      <td>3765fd</td>\n",
       "      <td>0</td>\n",
       "    </tr>\n",
       "    <tr>\n",
       "      <th>311483</th>\n",
       "      <td>2023-05-19 09:54:58</td>\n",
       "      <td>1</td>\n",
       "      <td>2A194B78</td>\n",
       "      <td>-87</td>\n",
       "      <td>375fb3</td>\n",
       "      <td>0</td>\n",
       "    </tr>\n",
       "    <tr>\n",
       "      <th>311631</th>\n",
       "      <td>2023-05-19 09:54:58</td>\n",
       "      <td>1</td>\n",
       "      <td>2A194B78</td>\n",
       "      <td>-103</td>\n",
       "      <td>37a65b</td>\n",
       "      <td>0</td>\n",
       "    </tr>\n",
       "    <tr>\n",
       "      <th>311415</th>\n",
       "      <td>2023-05-19 09:54:58</td>\n",
       "      <td>1</td>\n",
       "      <td>2A194B78</td>\n",
       "      <td>-89</td>\n",
       "      <td>378a8a</td>\n",
       "      <td>0</td>\n",
       "    </tr>\n",
       "  </tbody>\n",
       "</table>\n",
       "</div>"
      ],
      "text/plain": [
       "                       Time  RadioId     TagId  TagRSSI  NodeId  Validated\n",
       "311495  2023-05-19 09:54:58        1  2A194B78      -96  377a20          0\n",
       "311432  2023-05-19 09:54:58        1  2A194B78      -95  37736b          0\n",
       "311523  2023-05-19 09:54:58        1  2A194B78      -78  376f0d          0\n",
       "311381  2023-05-19 09:54:58        1  2A194B78      -90  377107          0\n",
       "311602  2023-05-19 09:54:58        1  2A194B78      -86  378f60          0\n",
       "311664  2023-05-19 09:54:58        1  2A194B78     -105  37858f          0\n",
       "311618  2023-05-19 09:54:58        1  2A194B78     -109  378d7b          0\n",
       "311574  2023-05-19 09:54:58        1  2A194B78      -65  3765fd          0\n",
       "311483  2023-05-19 09:54:58        1  2A194B78      -87  375fb3          0\n",
       "311631  2023-05-19 09:54:58        1  2A194B78     -103  37a65b          0\n",
       "311415  2023-05-19 09:54:58        1  2A194B78      -89  378a8a          0"
      ]
     },
     "execution_count": 23,
     "metadata": {},
     "output_type": "execute_result"
    }
   ],
   "source": [
    "d"
   ]
  },
  {
   "cell_type": "code",
   "execution_count": null,
   "id": "d11d0b35",
   "metadata": {},
   "outputs": [],
   "source": []
  }
 ],
 "metadata": {
  "kernelspec": {
   "display_name": "Python 3 (ipykernel)",
   "language": "python",
   "name": "python3"
  },
  "language_info": {
   "codemirror_mode": {
    "name": "ipython",
    "version": 3
   },
   "file_extension": ".py",
   "mimetype": "text/x-python",
   "name": "python",
   "nbconvert_exporter": "python",
   "pygments_lexer": "ipython3",
   "version": "3.9.16"
  }
 },
 "nbformat": 4,
 "nbformat_minor": 5
}
