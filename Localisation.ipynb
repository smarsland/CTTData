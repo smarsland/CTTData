{
 "cells": [
  {
   "cell_type": "code",
   "execution_count": 58,
   "id": "b9c252b0",
   "metadata": {},
   "outputs": [],
   "source": [
    "import numpy as np\n",
    "import pylab as pl\n",
    "import pandas as pd\n",
    "import datetime\n",
    "import os\n",
    "#from os.path import isfile, join\n",
    "import glob\n",
    "\n",
    "%matplotlib inline\n",
    "\n",
    "import warnings\n",
    "warnings.filterwarnings('ignore')\n"
   ]
  },
  {
   "cell_type": "code",
   "execution_count": 3,
   "id": "c87b04ea",
   "metadata": {},
   "outputs": [],
   "source": [
    "savepath = '/home/marslast/Downloads/CTT/Wairio'\n",
    "beeps = pd.read_pickle(os.path.join(savepath,'beeps.pkl'))\n",
    "locs = pd.read_pickle(os.path.join(savepath,'nodeLocations.pkl'))"
   ]
  },
  {
   "cell_type": "code",
   "execution_count": 4,
   "id": "d376dac8",
   "metadata": {},
   "outputs": [
    {
     "name": "stdout",
     "output_type": "stream",
     "text": [
      "['37506e' '375fb3' '3765fd' '376e52' '376f0d' '377107' '37736b' '377502'\n",
      " '3777d2' '377a20' '37852d' '378567' '37858f' '378932' '378a8a' '378d7b'\n",
      " '378f60' '379c29' '37a65b' '37a846']\n"
     ]
    }
   ],
   "source": [
    "# List of nodes\n",
    "nodes = np.unique(beeps.dropna().NodeId)\n",
    "print(nodes)"
   ]
  },
  {
   "cell_type": "markdown",
   "id": "a5379e7c",
   "metadata": {},
   "source": [
    "Tags Ellen put out (24/4/23 -- 19/05/23)\n",
    "19523434\n",
    "3466612D\n",
    "66556134\n",
    "\n",
    "Rat tags:\n",
    "2A194B78 19/5/23 1530\n",
    "332D7855 24/5/23 1500\n",
    "19523434 21/6/23 1530\n",
    "\n",
    "Stephen H\n",
    "2D2D6166 1/6/23"
   ]
  },
  {
   "cell_type": "code",
   "execution_count": 5,
   "id": "6fb98ee8",
   "metadata": {},
   "outputs": [
    {
     "data": {
      "text/html": [
       "<div>\n",
       "<style scoped>\n",
       "    .dataframe tbody tr th:only-of-type {\n",
       "        vertical-align: middle;\n",
       "    }\n",
       "\n",
       "    .dataframe tbody tr th {\n",
       "        vertical-align: top;\n",
       "    }\n",
       "\n",
       "    .dataframe thead th {\n",
       "        text-align: right;\n",
       "    }\n",
       "</style>\n",
       "<table border=\"1\" class=\"dataframe\">\n",
       "  <thead>\n",
       "    <tr style=\"text-align: right;\">\n",
       "      <th></th>\n",
       "      <th>Time</th>\n",
       "      <th>RadioId</th>\n",
       "      <th>TagId</th>\n",
       "      <th>TagRSSI</th>\n",
       "      <th>NodeId</th>\n",
       "      <th>Validated</th>\n",
       "    </tr>\n",
       "  </thead>\n",
       "  <tbody>\n",
       "    <tr>\n",
       "      <th>114186</th>\n",
       "      <td>2023-05-11 23:21:02</td>\n",
       "      <td>1</td>\n",
       "      <td>3466612D</td>\n",
       "      <td>-109</td>\n",
       "      <td>376f0d</td>\n",
       "      <td>0</td>\n",
       "    </tr>\n",
       "    <tr>\n",
       "      <th>114203</th>\n",
       "      <td>2023-05-11 23:21:46</td>\n",
       "      <td>1</td>\n",
       "      <td>3466612D</td>\n",
       "      <td>-69</td>\n",
       "      <td>37858f</td>\n",
       "      <td>0</td>\n",
       "    </tr>\n",
       "    <tr>\n",
       "      <th>114204</th>\n",
       "      <td>2023-05-11 23:22:00</td>\n",
       "      <td>1</td>\n",
       "      <td>3466612D</td>\n",
       "      <td>-69</td>\n",
       "      <td>37858f</td>\n",
       "      <td>0</td>\n",
       "    </tr>\n",
       "    <tr>\n",
       "      <th>114205</th>\n",
       "      <td>2023-05-11 23:22:15</td>\n",
       "      <td>1</td>\n",
       "      <td>3466612D</td>\n",
       "      <td>-69</td>\n",
       "      <td>37858f</td>\n",
       "      <td>0</td>\n",
       "    </tr>\n",
       "    <tr>\n",
       "      <th>114227</th>\n",
       "      <td>2023-05-11 23:22:26</td>\n",
       "      <td>1</td>\n",
       "      <td>3466612D</td>\n",
       "      <td>-106</td>\n",
       "      <td>377502</td>\n",
       "      <td>0</td>\n",
       "    </tr>\n",
       "  </tbody>\n",
       "</table>\n",
       "</div>"
      ],
      "text/plain": [
       "                       Time  RadioId     TagId  TagRSSI  NodeId  Validated\n",
       "114186  2023-05-11 23:21:02        1  3466612D     -109  376f0d          0\n",
       "114203  2023-05-11 23:21:46        1  3466612D      -69  37858f          0\n",
       "114204  2023-05-11 23:22:00        1  3466612D      -69  37858f          0\n",
       "114205  2023-05-11 23:22:15        1  3466612D      -69  37858f          0\n",
       "114227  2023-05-11 23:22:26        1  3466612D     -106  377502          0"
      ]
     },
     "execution_count": 5,
     "metadata": {},
     "output_type": "execute_result"
    }
   ],
   "source": [
    "ourtags = ['19523434','3466612D','66556134','2A194B78','332D7855','19523434','2D2D6166']\n",
    "beeps = beeps[beeps.TagId.isin(ourtags)]\n",
    "beeps.head()"
   ]
  },
  {
   "cell_type": "code",
   "execution_count": 7,
   "id": "d82c9ec6",
   "metadata": {},
   "outputs": [],
   "source": [
    "#beeps['Time'].duplicated()\n",
    "multiples = beeps.pivot_table(index=['Time'], aggfunc='size').reset_index()\n",
    "multiples.rename(columns={0: 'Counts'},inplace=True)\n",
    "times = multiples[multiples.Counts>1].Time"
   ]
  },
  {
   "cell_type": "code",
   "execution_count": 104,
   "id": "91245e3b",
   "metadata": {},
   "outputs": [
    {
     "data": {
      "text/plain": [
       "<Axes: ylabel='Frequency'>"
      ]
     },
     "execution_count": 104,
     "metadata": {},
     "output_type": "execute_result"
    },
    {
     "data": {
      "image/png": "[encoded data removed]",
      "text/plain": [
       "<Figure size 640x480 with 1 Axes>"
      ]
     },
     "metadata": {},
     "output_type": "display_data"
    }
   ],
   "source": [
    "multiples.plot.hist(column='Counts',bins=20)"
   ]
  },
  {
   "cell_type": "code",
   "execution_count": 78,
   "id": "93575c8e",
   "metadata": {},
   "outputs": [],
   "source": [
    "t = beeps['Time'].duplicated()\n",
    "inds = np.where(t==True)\n",
    "inds = inds[0][:500]\n",
    "df = beeps.iloc[inds,:]"
   ]
  },
  {
   "cell_type": "code",
   "execution_count": 72,
   "id": "d6903a4c",
   "metadata": {},
   "outputs": [],
   "source": [
    "df = beeps.groupby(beeps['Time'])"
   ]
  },
  {
   "cell_type": "code",
   "execution_count": 79,
   "id": "4cd8d1b1",
   "metadata": {},
   "outputs": [
    {
     "data": {
      "text/html": [
       "<div>\n",
       "<style scoped>\n",
       "    .dataframe tbody tr th:only-of-type {\n",
       "        vertical-align: middle;\n",
       "    }\n",
       "\n",
       "    .dataframe tbody tr th {\n",
       "        vertical-align: top;\n",
       "    }\n",
       "\n",
       "    .dataframe thead th {\n",
       "        text-align: right;\n",
       "    }\n",
       "</style>\n",
       "<table border=\"1\" class=\"dataframe\">\n",
       "  <thead>\n",
       "    <tr style=\"text-align: right;\">\n",
       "      <th></th>\n",
       "      <th>Time</th>\n",
       "      <th>RadioId</th>\n",
       "      <th>TagId</th>\n",
       "      <th>TagRSSI</th>\n",
       "      <th>NodeId</th>\n",
       "      <th>Validated</th>\n",
       "    </tr>\n",
       "  </thead>\n",
       "  <tbody>\n",
       "    <tr>\n",
       "      <th>114251</th>\n",
       "      <td>2023-05-11 23:22:58</td>\n",
       "      <td>1</td>\n",
       "      <td>3466612D</td>\n",
       "      <td>-109</td>\n",
       "      <td>377107</td>\n",
       "      <td>0</td>\n",
       "    </tr>\n",
       "    <tr>\n",
       "      <th>114188</th>\n",
       "      <td>2023-05-11 23:22:58</td>\n",
       "      <td>1</td>\n",
       "      <td>3466612D</td>\n",
       "      <td>-109</td>\n",
       "      <td>376f0d</td>\n",
       "      <td>0</td>\n",
       "    </tr>\n",
       "    <tr>\n",
       "      <th>114209</th>\n",
       "      <td>2023-05-11 23:23:13</td>\n",
       "      <td>1</td>\n",
       "      <td>3466612D</td>\n",
       "      <td>-69</td>\n",
       "      <td>37858f</td>\n",
       "      <td>0</td>\n",
       "    </tr>\n",
       "    <tr>\n",
       "      <th>114210</th>\n",
       "      <td>2023-05-11 23:23:27</td>\n",
       "      <td>1</td>\n",
       "      <td>3466612D</td>\n",
       "      <td>-69</td>\n",
       "      <td>37858f</td>\n",
       "      <td>0</td>\n",
       "    </tr>\n",
       "    <tr>\n",
       "      <th>114267</th>\n",
       "      <td>2023-05-11 23:23:42</td>\n",
       "      <td>1</td>\n",
       "      <td>3466612D</td>\n",
       "      <td>-107</td>\n",
       "      <td>37736b</td>\n",
       "      <td>0</td>\n",
       "    </tr>\n",
       "  </tbody>\n",
       "</table>\n",
       "</div>"
      ],
      "text/plain": [
       "                       Time  RadioId     TagId  TagRSSI  NodeId  Validated\n",
       "114251  2023-05-11 23:22:58        1  3466612D     -109  377107          0\n",
       "114188  2023-05-11 23:22:58        1  3466612D     -109  376f0d          0\n",
       "114209  2023-05-11 23:23:13        1  3466612D      -69  37858f          0\n",
       "114210  2023-05-11 23:23:27        1  3466612D      -69  37858f          0\n",
       "114267  2023-05-11 23:23:42        1  3466612D     -107  37736b          0"
      ]
     },
     "execution_count": 79,
     "metadata": {},
     "output_type": "execute_result"
    }
   ],
   "source": [
    "df.head()"
   ]
  },
  {
   "cell_type": "code",
   "execution_count": 83,
   "id": "76ca7d84",
   "metadata": {},
   "outputs": [
    {
     "name": "stdout",
     "output_type": "stream",
     "text": [
      "(array([   10,    23,    56, ..., 12648, 12649, 12650]),)\n"
     ]
    }
   ],
   "source": [
    "a = beeps[beeps.TagId==np.unique(beeps.TagId)[1]]\n",
    "t = a['Time'].duplicated()\n",
    "inds = np.where(t==True)\n",
    "print(inds)"
   ]
  },
  {
   "cell_type": "code",
   "execution_count": 65,
   "id": "73528748",
   "metadata": {},
   "outputs": [
    {
     "name": "stdout",
     "output_type": "stream",
     "text": [
      "6\n"
     ]
    }
   ],
   "source": [
    "maxl = 0\n",
    "time = \"\"\n",
    "count = 0\n",
    "for i in range(100):#len(inds[0])):\n",
    "    if (a.Time.iloc[inds[0][i]] == time):\n",
    "        count+=1\n",
    "    else:\n",
    "        if count>maxl:\n",
    "            maxl = count\n",
    "        count = 0\n",
    "        time = a.Time.iloc[inds[0][i]]\n",
    "        \n",
    "print(maxl)"
   ]
  },
  {
   "cell_type": "code",
   "execution_count": 82,
   "id": "ce8e744f",
   "metadata": {},
   "outputs": [
    {
     "name": "stdout",
     "output_type": "stream",
     "text": [
      "2A194B78 53403\n",
      "2D2D6166 12653\n",
      "332D7855 271949\n",
      "3466612D 58958\n"
     ]
    }
   ],
   "source": [
    "for t in np.unique(beeps.TagId):\n",
    "    print(t, np.shape(beeps[beeps.TagId==t])[0])"
   ]
  },
  {
   "cell_type": "code",
   "execution_count": 8,
   "id": "26432bee",
   "metadata": {},
   "outputs": [
    {
     "data": {
      "text/html": [
       "<div>\n",
       "<style scoped>\n",
       "    .dataframe tbody tr th:only-of-type {\n",
       "        vertical-align: middle;\n",
       "    }\n",
       "\n",
       "    .dataframe tbody tr th {\n",
       "        vertical-align: top;\n",
       "    }\n",
       "\n",
       "    .dataframe thead th {\n",
       "        text-align: right;\n",
       "    }\n",
       "</style>\n",
       "<table border=\"1\" class=\"dataframe\">\n",
       "  <thead>\n",
       "    <tr style=\"text-align: right;\">\n",
       "      <th></th>\n",
       "      <th>Time</th>\n",
       "      <th>Counts</th>\n",
       "    </tr>\n",
       "  </thead>\n",
       "  <tbody>\n",
       "    <tr>\n",
       "      <th>9</th>\n",
       "      <td>2023-05-11 23:22:58</td>\n",
       "      <td>3</td>\n",
       "    </tr>\n",
       "    <tr>\n",
       "      <th>11</th>\n",
       "      <td>2023-05-11 23:23:13</td>\n",
       "      <td>2</td>\n",
       "    </tr>\n",
       "    <tr>\n",
       "      <th>13</th>\n",
       "      <td>2023-05-11 23:23:27</td>\n",
       "      <td>2</td>\n",
       "    </tr>\n",
       "    <tr>\n",
       "      <th>15</th>\n",
       "      <td>2023-05-11 23:23:42</td>\n",
       "      <td>2</td>\n",
       "    </tr>\n",
       "    <tr>\n",
       "      <th>17</th>\n",
       "      <td>2023-05-11 23:23:56</td>\n",
       "      <td>3</td>\n",
       "    </tr>\n",
       "    <tr>\n",
       "      <th>...</th>\n",
       "      <td>...</td>\n",
       "      <td>...</td>\n",
       "    </tr>\n",
       "    <tr>\n",
       "      <th>142668</th>\n",
       "      <td>2023-06-16 04:21:53</td>\n",
       "      <td>7</td>\n",
       "    </tr>\n",
       "    <tr>\n",
       "      <th>142670</th>\n",
       "      <td>2023-06-16 04:22:08</td>\n",
       "      <td>9</td>\n",
       "    </tr>\n",
       "    <tr>\n",
       "      <th>142671</th>\n",
       "      <td>2023-06-16 04:22:23</td>\n",
       "      <td>8</td>\n",
       "    </tr>\n",
       "    <tr>\n",
       "      <th>142672</th>\n",
       "      <td>2023-06-16 04:22:38</td>\n",
       "      <td>3</td>\n",
       "    </tr>\n",
       "    <tr>\n",
       "      <th>142673</th>\n",
       "      <td>2023-06-16 04:22:39</td>\n",
       "      <td>4</td>\n",
       "    </tr>\n",
       "  </tbody>\n",
       "</table>\n",
       "<p>85197 rows × 2 columns</p>\n",
       "</div>"
      ],
      "text/plain": [
       "                       Time  Counts\n",
       "9       2023-05-11 23:22:58       3\n",
       "11      2023-05-11 23:23:13       2\n",
       "13      2023-05-11 23:23:27       2\n",
       "15      2023-05-11 23:23:42       2\n",
       "17      2023-05-11 23:23:56       3\n",
       "...                     ...     ...\n",
       "142668  2023-06-16 04:21:53       7\n",
       "142670  2023-06-16 04:22:08       9\n",
       "142671  2023-06-16 04:22:23       8\n",
       "142672  2023-06-16 04:22:38       3\n",
       "142673  2023-06-16 04:22:39       4\n",
       "\n",
       "[85197 rows x 2 columns]"
      ]
     },
     "execution_count": 8,
     "metadata": {},
     "output_type": "execute_result"
    }
   ],
   "source": [
    "multiples[multiples.Counts>1]"
   ]
  },
  {
   "cell_type": "code",
   "execution_count": 9,
   "id": "2f73b930",
   "metadata": {},
   "outputs": [],
   "source": [
    "t=multiples.iloc[32712,0]"
   ]
  },
  {
   "cell_type": "code",
   "execution_count": 10,
   "id": "6cef1121",
   "metadata": {},
   "outputs": [],
   "source": [
    "d = beeps[beeps.Time==t]"
   ]
  },
  {
   "cell_type": "markdown",
   "id": "dd9e4e56",
   "metadata": {},
   "source": [
    "Based on something like this, I want to (a) plot a circle around each location, (b) find the intersection, (c) guess the location"
   ]
  },
  {
   "cell_type": "code",
   "execution_count": 13,
   "id": "57ff169c",
   "metadata": {},
   "outputs": [
    {
     "data": {
      "image/png": "[encoded data removed]",
      "text/plain": [
       "<Figure size 640x480 with 1 Axes>"
      ]
     },
     "metadata": {},
     "output_type": "display_data"
    }
   ],
   "source": [
    "# These are the node locations\n",
    "pl.plot(locs.Latitude,locs.Longitude,'b.');\n",
    "# TODO -- sensor station too (and then think about which yagis)"
   ]
  },
  {
   "cell_type": "code",
   "execution_count": 65,
   "id": "9676d082",
   "metadata": {},
   "outputs": [
    {
     "data": {
      "image/png": "[encoded data removed]",
      "text/plain": [
       "<Figure size 640x480 with 1 Axes>"
      ]
     },
     "metadata": {},
     "output_type": "display_data"
    }
   ],
   "source": [
    "fig, ax = pl.subplots() \n",
    "# These are the node locations that were involved\n",
    "dd = locs[locs.NodeId.isin(d.NodeId)]\n",
    "ax.plot(dd.Latitude,dd.Longitude,'r.') \n",
    "\n",
    "for i in range(len(dd)):\n",
    "    # Put a circle around each -- how to calibrate?! It's obviously not linear.\n",
    "    rssi = d.TagRSSI[d.NodeId==dd.iloc[i,0]]\n",
    "    circle = pl.Circle((dd.iloc[i,1],dd.iloc[i,2]), 0.00004*(100+rssi), color='g',fill=False)\n",
    "    ax.add_patch(circle)\n",
    "\n",
    "pl.axis('equal');"
   ]
  },
  {
   "cell_type": "code",
   "execution_count": 56,
   "id": "8feb4edb",
   "metadata": {},
   "outputs": [
    {
     "data": {
      "text/html": [
       "<div>\n",
       "<style scoped>\n",
       "    .dataframe tbody tr th:only-of-type {\n",
       "        vertical-align: middle;\n",
       "    }\n",
       "\n",
       "    .dataframe tbody tr th {\n",
       "        vertical-align: top;\n",
       "    }\n",
       "\n",
       "    .dataframe thead th {\n",
       "        text-align: right;\n",
       "    }\n",
       "</style>\n",
       "<table border=\"1\" class=\"dataframe\">\n",
       "  <thead>\n",
       "    <tr style=\"text-align: right;\">\n",
       "      <th></th>\n",
       "      <th>Time</th>\n",
       "      <th>RadioId</th>\n",
       "      <th>TagId</th>\n",
       "      <th>TagRSSI</th>\n",
       "      <th>NodeId</th>\n",
       "      <th>Validated</th>\n",
       "    </tr>\n",
       "  </thead>\n",
       "  <tbody>\n",
       "    <tr>\n",
       "      <th>311282</th>\n",
       "      <td>2023-05-19 09:51:35</td>\n",
       "      <td>1</td>\n",
       "      <td>2A194B78</td>\n",
       "      <td>-109</td>\n",
       "      <td>378d7b</td>\n",
       "      <td>0</td>\n",
       "    </tr>\n",
       "    <tr>\n",
       "      <th>311130</th>\n",
       "      <td>2023-05-19 09:51:35</td>\n",
       "      <td>5</td>\n",
       "      <td>2A194B78</td>\n",
       "      <td>-81</td>\n",
       "      <td>NaN</td>\n",
       "      <td>0</td>\n",
       "    </tr>\n",
       "    <tr>\n",
       "      <th>311164</th>\n",
       "      <td>2023-05-19 09:51:35</td>\n",
       "      <td>1</td>\n",
       "      <td>2A194B78</td>\n",
       "      <td>-99</td>\n",
       "      <td>377a20</td>\n",
       "      <td>0</td>\n",
       "    </tr>\n",
       "    <tr>\n",
       "      <th>311133</th>\n",
       "      <td>2023-05-19 09:51:35</td>\n",
       "      <td>2</td>\n",
       "      <td>2A194B78</td>\n",
       "      <td>-90</td>\n",
       "      <td>NaN</td>\n",
       "      <td>0</td>\n",
       "    </tr>\n",
       "    <tr>\n",
       "      <th>311131</th>\n",
       "      <td>2023-05-19 09:51:35</td>\n",
       "      <td>3</td>\n",
       "      <td>2A194B78</td>\n",
       "      <td>-91</td>\n",
       "      <td>NaN</td>\n",
       "      <td>0</td>\n",
       "    </tr>\n",
       "    <tr>\n",
       "      <th>311132</th>\n",
       "      <td>2023-05-19 09:51:35</td>\n",
       "      <td>4</td>\n",
       "      <td>2A194B78</td>\n",
       "      <td>-93</td>\n",
       "      <td>NaN</td>\n",
       "      <td>0</td>\n",
       "    </tr>\n",
       "    <tr>\n",
       "      <th>311450</th>\n",
       "      <td>2023-05-19 09:51:35</td>\n",
       "      <td>1</td>\n",
       "      <td>2A194B78</td>\n",
       "      <td>-101</td>\n",
       "      <td>378932</td>\n",
       "      <td>0</td>\n",
       "    </tr>\n",
       "    <tr>\n",
       "      <th>311272</th>\n",
       "      <td>2023-05-19 09:51:35</td>\n",
       "      <td>1</td>\n",
       "      <td>2A194B78</td>\n",
       "      <td>-90</td>\n",
       "      <td>378f60</td>\n",
       "      <td>0</td>\n",
       "    </tr>\n",
       "    <tr>\n",
       "      <th>311446</th>\n",
       "      <td>2023-05-19 09:51:35</td>\n",
       "      <td>1</td>\n",
       "      <td>2A194B78</td>\n",
       "      <td>-102</td>\n",
       "      <td>376e52</td>\n",
       "      <td>0</td>\n",
       "    </tr>\n",
       "    <tr>\n",
       "      <th>311244</th>\n",
       "      <td>2023-05-19 09:51:35</td>\n",
       "      <td>1</td>\n",
       "      <td>2A194B78</td>\n",
       "      <td>-46</td>\n",
       "      <td>3765fd</td>\n",
       "      <td>0</td>\n",
       "    </tr>\n",
       "    <tr>\n",
       "      <th>311191</th>\n",
       "      <td>2023-05-19 09:51:35</td>\n",
       "      <td>1</td>\n",
       "      <td>2A194B78</td>\n",
       "      <td>-99</td>\n",
       "      <td>376f0d</td>\n",
       "      <td>0</td>\n",
       "    </tr>\n",
       "    <tr>\n",
       "      <th>311339</th>\n",
       "      <td>2023-05-19 09:51:35</td>\n",
       "      <td>1</td>\n",
       "      <td>2A194B78</td>\n",
       "      <td>-103</td>\n",
       "      <td>37858f</td>\n",
       "      <td>0</td>\n",
       "    </tr>\n",
       "    <tr>\n",
       "      <th>311422</th>\n",
       "      <td>2023-05-19 09:51:35</td>\n",
       "      <td>1</td>\n",
       "      <td>2A194B78</td>\n",
       "      <td>-107</td>\n",
       "      <td>37736b</td>\n",
       "      <td>0</td>\n",
       "    </tr>\n",
       "    <tr>\n",
       "      <th>311401</th>\n",
       "      <td>2023-05-19 09:51:35</td>\n",
       "      <td>1</td>\n",
       "      <td>2A194B78</td>\n",
       "      <td>-73</td>\n",
       "      <td>378a8a</td>\n",
       "      <td>0</td>\n",
       "    </tr>\n",
       "    <tr>\n",
       "      <th>311366</th>\n",
       "      <td>2023-05-19 09:51:35</td>\n",
       "      <td>1</td>\n",
       "      <td>2A194B78</td>\n",
       "      <td>-86</td>\n",
       "      <td>377107</td>\n",
       "      <td>0</td>\n",
       "    </tr>\n",
       "    <tr>\n",
       "      <th>311386</th>\n",
       "      <td>2023-05-19 09:51:35</td>\n",
       "      <td>1</td>\n",
       "      <td>2A194B78</td>\n",
       "      <td>-107</td>\n",
       "      <td>37a846</td>\n",
       "      <td>0</td>\n",
       "    </tr>\n",
       "    <tr>\n",
       "      <th>311301</th>\n",
       "      <td>2023-05-19 09:51:35</td>\n",
       "      <td>1</td>\n",
       "      <td>2A194B78</td>\n",
       "      <td>-107</td>\n",
       "      <td>37a65b</td>\n",
       "      <td>0</td>\n",
       "    </tr>\n",
       "  </tbody>\n",
       "</table>\n",
       "</div>"
      ],
      "text/plain": [
       "                       Time  RadioId     TagId  TagRSSI  NodeId  Validated\n",
       "311282  2023-05-19 09:51:35        1  2A194B78     -109  378d7b          0\n",
       "311130  2023-05-19 09:51:35        5  2A194B78      -81     NaN          0\n",
       "311164  2023-05-19 09:51:35        1  2A194B78      -99  377a20          0\n",
       "311133  2023-05-19 09:51:35        2  2A194B78      -90     NaN          0\n",
       "311131  2023-05-19 09:51:35        3  2A194B78      -91     NaN          0\n",
       "311132  2023-05-19 09:51:35        4  2A194B78      -93     NaN          0\n",
       "311450  2023-05-19 09:51:35        1  2A194B78     -101  378932          0\n",
       "311272  2023-05-19 09:51:35        1  2A194B78      -90  378f60          0\n",
       "311446  2023-05-19 09:51:35        1  2A194B78     -102  376e52          0\n",
       "311244  2023-05-19 09:51:35        1  2A194B78      -46  3765fd          0\n",
       "311191  2023-05-19 09:51:35        1  2A194B78      -99  376f0d          0\n",
       "311339  2023-05-19 09:51:35        1  2A194B78     -103  37858f          0\n",
       "311422  2023-05-19 09:51:35        1  2A194B78     -107  37736b          0\n",
       "311401  2023-05-19 09:51:35        1  2A194B78      -73  378a8a          0\n",
       "311366  2023-05-19 09:51:35        1  2A194B78      -86  377107          0\n",
       "311386  2023-05-19 09:51:35        1  2A194B78     -107  37a846          0\n",
       "311301  2023-05-19 09:51:35        1  2A194B78     -107  37a65b          0"
      ]
     },
     "execution_count": 56,
     "metadata": {},
     "output_type": "execute_result"
    }
   ],
   "source": [
    "d"
   ]
  },
  {
   "cell_type": "code",
   "execution_count": null,
   "id": "b2255cc5",
   "metadata": {},
   "outputs": [],
   "source": []
  }
 ],
 "metadata": {
  "kernelspec": {
   "display_name": "Python 3 (ipykernel)",
   "language": "python",
   "name": "python3"
  },
  "language_info": {
   "codemirror_mode": {
    "name": "ipython",
    "version": 3
   },
   "file_extension": ".py",
   "mimetype": "text/x-python",
   "name": "python",
   "nbconvert_exporter": "python",
   "pygments_lexer": "ipython3",
   "version": "3.9.16"
  }
 },
 "nbformat": 4,
 "nbformat_minor": 5
}
